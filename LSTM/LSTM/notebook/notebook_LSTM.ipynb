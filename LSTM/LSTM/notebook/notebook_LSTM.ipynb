{
 "cells": [
  {
   "cell_type": "markdown",
   "metadata": {},
   "source": [
    "## Predictive Approach for Failure Detection in Electrical Submersible Pump Systems"
   ]
  },
  {
   "cell_type": "markdown",
   "metadata": {},
   "source": [
    "The oil and gas industry has always been challenged to identify any electrical submersible pump (ESP) abnormal performance to avoid ESP failure. Given the high cost of ESP maintenance, there is always a demand for real-time failure detection systems which are applied to monitor ESP performance and identify failure events before they happen. \n",
    "In this notebook, we'll try to build a machine learning model that is able to predict ESP failure in oil wells before it happens based on historical daily data of multiple wells and pumps. "
   ]
  },
  {
   "cell_type": "markdown",
   "metadata": {},
   "source": [
    "#### Importing librairies & packages"
   ]
  },
  {
   "cell_type": "code",
   "execution_count": 1,
   "metadata": {},
   "outputs": [],
   "source": [
    "import numpy as np\n",
    "import pandas as pd\n",
    "import matplotlib.pyplot as plt\n",
    "import visualkeras\n",
    "plt.rcParams['agg.path.chunksize'] = 10000\n",
    "%matplotlib inline\n",
    "\n",
    "from sklearn.model_selection import train_test_split\n",
    "from sklearn.preprocessing import MinMaxScaler,LabelEncoder,RobustScaler\n",
    "from keras.utils import np_utils\n",
    "import seaborn as sns\n",
    "import plotly.express as px\n",
    "from IPython.display import clear_output\n",
    "import warnings\n",
    "warnings.filterwarnings('ignore')\n",
    "clear_output()\n",
    "import tensorflow as tf\n",
    "from tensorflow import keras\n",
    "from keras.layers import Dense, Dropout, LSTM\n",
    "from keras.models import Sequential\n",
    "from tensorflow.keras.optimizers import Adam\n",
    "from tensorflow.keras.losses import SparseCategoricalCrossentropy\n",
    "\n",
    "from tensorflow.keras.models import Sequential\n",
    "from tensorflow.keras.layers import Activation, Dropout, Dense, Embedding, LSTM, SpatialDropout1D, RepeatVector, TimeDistributed, Bidirectional\n",
    "from keras.layers.convolutional import Conv1D, MaxPooling1D, AveragePooling1D, Conv2D\n",
    "from tensorflow.keras import layers"
   ]
  },
  {
   "cell_type": "markdown",
   "metadata": {},
   "source": [
    "#### Loading Data"
   ]
  },
  {
   "cell_type": "markdown",
   "metadata": {},
   "source": [
    "We first load and get a general overview of the data we have. "
   ]
  },
  {
   "cell_type": "code",
   "execution_count": 2,
   "metadata": {},
   "outputs": [
    {
     "name": "stdout",
     "output_type": "stream",
     "text": [
      "> Dataset have 58979 rows and 25 columns/features.\n",
      "> These are the features present in the dataset : ['DATE', 'WELL_ID', 'CURRENT', 'PRESS_DESC', 'FREQUENCY', 'PRESS_INT', 'TEMP_INT', 'TEMP_MOT', 'OUT_VOLT', 'VIBRATION', 'BFPD', 'BOPD', 'BWPD', 'MSCF', 'BSW', 'GOR(MSFC/BPPD)', 'GLR(SCF/BFPD)', 'API', 'FREC(Hz)', 'PIP(PSI)', 'INTAKE_DEPTH', 'AMPERAGE', 'PUMP', 'WHP(PSI)', 'FAILURE']\n"
     ]
    }
   ],
   "source": [
    "data = pd.read_csv(\"wells_data.csv\", parse_dates=True, index_col=\"Unnamed: 0\")\n",
    "print(\"> Dataset have\",data.shape[0],\"rows and\",data.shape[1],\"columns/features.\")\n",
    "print(\"> These are the features present in the dataset :\", data.keys().to_list())"
   ]
  },
  {
   "cell_type": "markdown",
   "metadata": {},
   "source": [
    "The dataset is separated into 23 columns related to the well variables, 'FAILURE' column is the target describing the pump status, and a 'DATE' column for timestamp. We can see also that the data is recorded daily."
   ]
  },
  {
   "cell_type": "code",
   "execution_count": 3,
   "metadata": {},
   "outputs": [
    {
     "data": {
      "text/html": [
       "<div>\n",
       "<style scoped>\n",
       "    .dataframe tbody tr th:only-of-type {\n",
       "        vertical-align: middle;\n",
       "    }\n",
       "\n",
       "    .dataframe tbody tr th {\n",
       "        vertical-align: top;\n",
       "    }\n",
       "\n",
       "    .dataframe thead th {\n",
       "        text-align: right;\n",
       "    }\n",
       "</style>\n",
       "<table border=\"1\" class=\"dataframe\">\n",
       "  <thead>\n",
       "    <tr style=\"text-align: right;\">\n",
       "      <th></th>\n",
       "      <th>DATE</th>\n",
       "      <th>WELL_ID</th>\n",
       "      <th>CURRENT</th>\n",
       "      <th>PRESS_DESC</th>\n",
       "      <th>FREQUENCY</th>\n",
       "      <th>PRESS_INT</th>\n",
       "      <th>TEMP_INT</th>\n",
       "      <th>TEMP_MOT</th>\n",
       "      <th>OUT_VOLT</th>\n",
       "      <th>VIBRATION</th>\n",
       "      <th>...</th>\n",
       "      <th>GOR(MSFC/BPPD)</th>\n",
       "      <th>GLR(SCF/BFPD)</th>\n",
       "      <th>API</th>\n",
       "      <th>FREC(Hz)</th>\n",
       "      <th>PIP(PSI)</th>\n",
       "      <th>INTAKE_DEPTH</th>\n",
       "      <th>AMPERAGE</th>\n",
       "      <th>PUMP</th>\n",
       "      <th>WHP(PSI)</th>\n",
       "      <th>FAILURE</th>\n",
       "    </tr>\n",
       "  </thead>\n",
       "  <tbody>\n",
       "    <tr>\n",
       "      <th>0</th>\n",
       "      <td>2019-02-25</td>\n",
       "      <td>DEEPWATER-000XAR</td>\n",
       "      <td>72.42</td>\n",
       "      <td>4252.87</td>\n",
       "      <td>57.44</td>\n",
       "      <td>1443.97</td>\n",
       "      <td>222.71</td>\n",
       "      <td>281.56</td>\n",
       "      <td>0.0</td>\n",
       "      <td>0.17</td>\n",
       "      <td>...</td>\n",
       "      <td>123.54874</td>\n",
       "      <td>6.177437</td>\n",
       "      <td>18.6</td>\n",
       "      <td>57.5</td>\n",
       "      <td>1453.0</td>\n",
       "      <td>8915.0</td>\n",
       "      <td>72.0</td>\n",
       "      <td>ESP-890</td>\n",
       "      <td>330.0</td>\n",
       "      <td>0</td>\n",
       "    </tr>\n",
       "    <tr>\n",
       "      <th>1</th>\n",
       "      <td>2019-02-26</td>\n",
       "      <td>DEEPWATER-000XAR</td>\n",
       "      <td>72.77</td>\n",
       "      <td>4203.62</td>\n",
       "      <td>57.44</td>\n",
       "      <td>1414.84</td>\n",
       "      <td>222.80</td>\n",
       "      <td>281.09</td>\n",
       "      <td>0.0</td>\n",
       "      <td>0.15</td>\n",
       "      <td>...</td>\n",
       "      <td>123.54874</td>\n",
       "      <td>6.177437</td>\n",
       "      <td>18.6</td>\n",
       "      <td>57.5</td>\n",
       "      <td>1453.0</td>\n",
       "      <td>8915.0</td>\n",
       "      <td>72.0</td>\n",
       "      <td>ESP-890</td>\n",
       "      <td>330.0</td>\n",
       "      <td>0</td>\n",
       "    </tr>\n",
       "    <tr>\n",
       "      <th>2</th>\n",
       "      <td>2019-02-27</td>\n",
       "      <td>DEEPWATER-000XAR</td>\n",
       "      <td>72.29</td>\n",
       "      <td>4271.55</td>\n",
       "      <td>57.45</td>\n",
       "      <td>1449.17</td>\n",
       "      <td>222.72</td>\n",
       "      <td>281.55</td>\n",
       "      <td>0.0</td>\n",
       "      <td>0.15</td>\n",
       "      <td>...</td>\n",
       "      <td>123.54874</td>\n",
       "      <td>6.177437</td>\n",
       "      <td>18.6</td>\n",
       "      <td>57.5</td>\n",
       "      <td>1453.0</td>\n",
       "      <td>8915.0</td>\n",
       "      <td>72.0</td>\n",
       "      <td>ESP-890</td>\n",
       "      <td>330.0</td>\n",
       "      <td>0</td>\n",
       "    </tr>\n",
       "    <tr>\n",
       "      <th>3</th>\n",
       "      <td>2019-02-28</td>\n",
       "      <td>DEEPWATER-000XAR</td>\n",
       "      <td>72.29</td>\n",
       "      <td>4271.55</td>\n",
       "      <td>57.45</td>\n",
       "      <td>1449.17</td>\n",
       "      <td>222.72</td>\n",
       "      <td>281.55</td>\n",
       "      <td>0.0</td>\n",
       "      <td>0.15</td>\n",
       "      <td>...</td>\n",
       "      <td>123.54874</td>\n",
       "      <td>6.177437</td>\n",
       "      <td>18.6</td>\n",
       "      <td>57.5</td>\n",
       "      <td>1453.0</td>\n",
       "      <td>8915.0</td>\n",
       "      <td>72.0</td>\n",
       "      <td>ESP-890</td>\n",
       "      <td>330.0</td>\n",
       "      <td>0</td>\n",
       "    </tr>\n",
       "    <tr>\n",
       "      <th>4</th>\n",
       "      <td>2019-03-01</td>\n",
       "      <td>DEEPWATER-000XAR</td>\n",
       "      <td>72.29</td>\n",
       "      <td>4271.55</td>\n",
       "      <td>57.45</td>\n",
       "      <td>1449.17</td>\n",
       "      <td>222.72</td>\n",
       "      <td>281.55</td>\n",
       "      <td>0.0</td>\n",
       "      <td>0.15</td>\n",
       "      <td>...</td>\n",
       "      <td>123.54874</td>\n",
       "      <td>6.177437</td>\n",
       "      <td>18.6</td>\n",
       "      <td>57.5</td>\n",
       "      <td>1453.0</td>\n",
       "      <td>8915.0</td>\n",
       "      <td>72.0</td>\n",
       "      <td>ESP-890</td>\n",
       "      <td>330.0</td>\n",
       "      <td>0</td>\n",
       "    </tr>\n",
       "  </tbody>\n",
       "</table>\n",
       "<p>5 rows × 25 columns</p>\n",
       "</div>"
      ],
      "text/plain": [
       "         DATE           WELL_ID  CURRENT  PRESS_DESC  FREQUENCY  PRESS_INT  \\\n",
       "0  2019-02-25  DEEPWATER-000XAR    72.42     4252.87      57.44    1443.97   \n",
       "1  2019-02-26  DEEPWATER-000XAR    72.77     4203.62      57.44    1414.84   \n",
       "2  2019-02-27  DEEPWATER-000XAR    72.29     4271.55      57.45    1449.17   \n",
       "3  2019-02-28  DEEPWATER-000XAR    72.29     4271.55      57.45    1449.17   \n",
       "4  2019-03-01  DEEPWATER-000XAR    72.29     4271.55      57.45    1449.17   \n",
       "\n",
       "   TEMP_INT  TEMP_MOT  OUT_VOLT  VIBRATION  ...  GOR(MSFC/BPPD)  \\\n",
       "0    222.71    281.56       0.0       0.17  ...       123.54874   \n",
       "1    222.80    281.09       0.0       0.15  ...       123.54874   \n",
       "2    222.72    281.55       0.0       0.15  ...       123.54874   \n",
       "3    222.72    281.55       0.0       0.15  ...       123.54874   \n",
       "4    222.72    281.55       0.0       0.15  ...       123.54874   \n",
       "\n",
       "   GLR(SCF/BFPD)   API  FREC(Hz)  PIP(PSI)  INTAKE_DEPTH  AMPERAGE     PUMP  \\\n",
       "0       6.177437  18.6      57.5    1453.0        8915.0      72.0  ESP-890   \n",
       "1       6.177437  18.6      57.5    1453.0        8915.0      72.0  ESP-890   \n",
       "2       6.177437  18.6      57.5    1453.0        8915.0      72.0  ESP-890   \n",
       "3       6.177437  18.6      57.5    1453.0        8915.0      72.0  ESP-890   \n",
       "4       6.177437  18.6      57.5    1453.0        8915.0      72.0  ESP-890   \n",
       "\n",
       "   WHP(PSI)  FAILURE  \n",
       "0     330.0        0  \n",
       "1     330.0        0  \n",
       "2     330.0        0  \n",
       "3     330.0        0  \n",
       "4     330.0        0  \n",
       "\n",
       "[5 rows x 25 columns]"
      ]
     },
     "execution_count": 3,
     "metadata": {},
     "output_type": "execute_result"
    }
   ],
   "source": [
    "data.head()"
   ]
  },
  {
   "cell_type": "code",
   "execution_count": 4,
   "metadata": {},
   "outputs": [
    {
     "data": {
      "text/html": [
       "<div>\n",
       "<style scoped>\n",
       "    .dataframe tbody tr th:only-of-type {\n",
       "        vertical-align: middle;\n",
       "    }\n",
       "\n",
       "    .dataframe tbody tr th {\n",
       "        vertical-align: top;\n",
       "    }\n",
       "\n",
       "    .dataframe thead th {\n",
       "        text-align: right;\n",
       "    }\n",
       "</style>\n",
       "<table border=\"1\" class=\"dataframe\">\n",
       "  <thead>\n",
       "    <tr style=\"text-align: right;\">\n",
       "      <th></th>\n",
       "      <th>CURRENT</th>\n",
       "      <th>PRESS_DESC</th>\n",
       "      <th>FREQUENCY</th>\n",
       "      <th>PRESS_INT</th>\n",
       "      <th>TEMP_INT</th>\n",
       "      <th>TEMP_MOT</th>\n",
       "      <th>OUT_VOLT</th>\n",
       "      <th>VIBRATION</th>\n",
       "      <th>BFPD</th>\n",
       "      <th>BOPD</th>\n",
       "      <th>...</th>\n",
       "      <th>BSW</th>\n",
       "      <th>GOR(MSFC/BPPD)</th>\n",
       "      <th>GLR(SCF/BFPD)</th>\n",
       "      <th>API</th>\n",
       "      <th>FREC(Hz)</th>\n",
       "      <th>PIP(PSI)</th>\n",
       "      <th>INTAKE_DEPTH</th>\n",
       "      <th>AMPERAGE</th>\n",
       "      <th>WHP(PSI)</th>\n",
       "      <th>FAILURE</th>\n",
       "    </tr>\n",
       "  </thead>\n",
       "  <tbody>\n",
       "    <tr>\n",
       "      <th>count</th>\n",
       "      <td>58979.000000</td>\n",
       "      <td>57194.000000</td>\n",
       "      <td>58979.000000</td>\n",
       "      <td>58979.000000</td>\n",
       "      <td>58503.000000</td>\n",
       "      <td>58168.000000</td>\n",
       "      <td>27726.000000</td>\n",
       "      <td>56666.000000</td>\n",
       "      <td>58979.000000</td>\n",
       "      <td>58979.000000</td>\n",
       "      <td>...</td>\n",
       "      <td>58979.000000</td>\n",
       "      <td>58979.000000</td>\n",
       "      <td>58979.000000</td>\n",
       "      <td>58979.000000</td>\n",
       "      <td>58979.000000</td>\n",
       "      <td>58075.000000</td>\n",
       "      <td>58979.000000</td>\n",
       "      <td>58979.000000</td>\n",
       "      <td>58979.000000</td>\n",
       "      <td>58979.000000</td>\n",
       "    </tr>\n",
       "    <tr>\n",
       "      <th>mean</th>\n",
       "      <td>34.894016</td>\n",
       "      <td>3162.037101</td>\n",
       "      <td>59.276908</td>\n",
       "      <td>674.075516</td>\n",
       "      <td>228.011368</td>\n",
       "      <td>266.758217</td>\n",
       "      <td>264.853927</td>\n",
       "      <td>0.294852</td>\n",
       "      <td>696.869941</td>\n",
       "      <td>310.084317</td>\n",
       "      <td>...</td>\n",
       "      <td>39.730874</td>\n",
       "      <td>97.704274</td>\n",
       "      <td>60.011508</td>\n",
       "      <td>22.250739</td>\n",
       "      <td>61.604775</td>\n",
       "      <td>494.972312</td>\n",
       "      <td>9611.645366</td>\n",
       "      <td>36.663072</td>\n",
       "      <td>113.594751</td>\n",
       "      <td>0.002119</td>\n",
       "    </tr>\n",
       "    <tr>\n",
       "      <th>std</th>\n",
       "      <td>16.541065</td>\n",
       "      <td>1734.936712</td>\n",
       "      <td>24.792601</td>\n",
       "      <td>979.063617</td>\n",
       "      <td>41.387009</td>\n",
       "      <td>51.829133</td>\n",
       "      <td>208.575610</td>\n",
       "      <td>1.811388</td>\n",
       "      <td>637.861865</td>\n",
       "      <td>302.520470</td>\n",
       "      <td>...</td>\n",
       "      <td>31.568172</td>\n",
       "      <td>64.896288</td>\n",
       "      <td>56.206490</td>\n",
       "      <td>5.714801</td>\n",
       "      <td>17.699490</td>\n",
       "      <td>417.350432</td>\n",
       "      <td>514.492850</td>\n",
       "      <td>16.583678</td>\n",
       "      <td>75.641891</td>\n",
       "      <td>0.052850</td>\n",
       "    </tr>\n",
       "    <tr>\n",
       "      <th>min</th>\n",
       "      <td>20.000000</td>\n",
       "      <td>0.000000</td>\n",
       "      <td>25.000000</td>\n",
       "      <td>0.000000</td>\n",
       "      <td>175.000000</td>\n",
       "      <td>175.000000</td>\n",
       "      <td>0.000000</td>\n",
       "      <td>0.000000</td>\n",
       "      <td>13.900000</td>\n",
       "      <td>7.300000</td>\n",
       "      <td>...</td>\n",
       "      <td>0.000000</td>\n",
       "      <td>0.000000</td>\n",
       "      <td>0.000000</td>\n",
       "      <td>10.000000</td>\n",
       "      <td>25.000000</td>\n",
       "      <td>0.000000</td>\n",
       "      <td>8000.000000</td>\n",
       "      <td>20.000000</td>\n",
       "      <td>0.500000</td>\n",
       "      <td>0.000000</td>\n",
       "    </tr>\n",
       "    <tr>\n",
       "      <th>25%</th>\n",
       "      <td>21.000000</td>\n",
       "      <td>3073.074835</td>\n",
       "      <td>52.000000</td>\n",
       "      <td>240.000000</td>\n",
       "      <td>223.439753</td>\n",
       "      <td>247.100000</td>\n",
       "      <td>0.000000</td>\n",
       "      <td>0.000000</td>\n",
       "      <td>220.000000</td>\n",
       "      <td>138.000000</td>\n",
       "      <td>...</td>\n",
       "      <td>5.000000</td>\n",
       "      <td>55.991627</td>\n",
       "      <td>16.801999</td>\n",
       "      <td>18.000000</td>\n",
       "      <td>54.000000</td>\n",
       "      <td>262.000000</td>\n",
       "      <td>9392.000000</td>\n",
       "      <td>23.000000</td>\n",
       "      <td>50.000000</td>\n",
       "      <td>0.000000</td>\n",
       "    </tr>\n",
       "    <tr>\n",
       "      <th>50%</th>\n",
       "      <td>29.000000</td>\n",
       "      <td>3817.672946</td>\n",
       "      <td>56.000000</td>\n",
       "      <td>344.240000</td>\n",
       "      <td>229.140000</td>\n",
       "      <td>278.000000</td>\n",
       "      <td>394.408846</td>\n",
       "      <td>0.000000</td>\n",
       "      <td>456.000000</td>\n",
       "      <td>231.400000</td>\n",
       "      <td>...</td>\n",
       "      <td>38.000000</td>\n",
       "      <td>84.003411</td>\n",
       "      <td>42.560000</td>\n",
       "      <td>19.200000</td>\n",
       "      <td>57.000000</td>\n",
       "      <td>356.000000</td>\n",
       "      <td>9589.000000</td>\n",
       "      <td>31.000000</td>\n",
       "      <td>100.000000</td>\n",
       "      <td>0.000000</td>\n",
       "    </tr>\n",
       "    <tr>\n",
       "      <th>75%</th>\n",
       "      <td>44.607595</td>\n",
       "      <td>4056.821263</td>\n",
       "      <td>61.000000</td>\n",
       "      <td>668.973873</td>\n",
       "      <td>235.596872</td>\n",
       "      <td>294.840000</td>\n",
       "      <td>446.305000</td>\n",
       "      <td>0.222373</td>\n",
       "      <td>1020.000000</td>\n",
       "      <td>390.060000</td>\n",
       "      <td>...</td>\n",
       "      <td>70.000000</td>\n",
       "      <td>145.814707</td>\n",
       "      <td>82.331081</td>\n",
       "      <td>27.100000</td>\n",
       "      <td>63.000000</td>\n",
       "      <td>561.000000</td>\n",
       "      <td>9899.000000</td>\n",
       "      <td>48.000000</td>\n",
       "      <td>150.000000</td>\n",
       "      <td>0.000000</td>\n",
       "    </tr>\n",
       "    <tr>\n",
       "      <th>max</th>\n",
       "      <td>150.000000</td>\n",
       "      <td>10500.000000</td>\n",
       "      <td>150.000000</td>\n",
       "      <td>5000.000000</td>\n",
       "      <td>500.000000</td>\n",
       "      <td>500.000000</td>\n",
       "      <td>607.540000</td>\n",
       "      <td>20.000000</td>\n",
       "      <td>3866.000000</td>\n",
       "      <td>2425.840000</td>\n",
       "      <td>...</td>\n",
       "      <td>99.000000</td>\n",
       "      <td>300.000000</td>\n",
       "      <td>300.000000</td>\n",
       "      <td>42.000000</td>\n",
       "      <td>150.000000</td>\n",
       "      <td>5000.000000</td>\n",
       "      <td>11850.000000</td>\n",
       "      <td>150.000000</td>\n",
       "      <td>400.000000</td>\n",
       "      <td>2.000000</td>\n",
       "    </tr>\n",
       "  </tbody>\n",
       "</table>\n",
       "<p>8 rows × 22 columns</p>\n",
       "</div>"
      ],
      "text/plain": [
       "            CURRENT    PRESS_DESC     FREQUENCY     PRESS_INT      TEMP_INT  \\\n",
       "count  58979.000000  57194.000000  58979.000000  58979.000000  58503.000000   \n",
       "mean      34.894016   3162.037101     59.276908    674.075516    228.011368   \n",
       "std       16.541065   1734.936712     24.792601    979.063617     41.387009   \n",
       "min       20.000000      0.000000     25.000000      0.000000    175.000000   \n",
       "25%       21.000000   3073.074835     52.000000    240.000000    223.439753   \n",
       "50%       29.000000   3817.672946     56.000000    344.240000    229.140000   \n",
       "75%       44.607595   4056.821263     61.000000    668.973873    235.596872   \n",
       "max      150.000000  10500.000000    150.000000   5000.000000    500.000000   \n",
       "\n",
       "           TEMP_MOT      OUT_VOLT     VIBRATION          BFPD          BOPD  \\\n",
       "count  58168.000000  27726.000000  56666.000000  58979.000000  58979.000000   \n",
       "mean     266.758217    264.853927      0.294852    696.869941    310.084317   \n",
       "std       51.829133    208.575610      1.811388    637.861865    302.520470   \n",
       "min      175.000000      0.000000      0.000000     13.900000      7.300000   \n",
       "25%      247.100000      0.000000      0.000000    220.000000    138.000000   \n",
       "50%      278.000000    394.408846      0.000000    456.000000    231.400000   \n",
       "75%      294.840000    446.305000      0.222373   1020.000000    390.060000   \n",
       "max      500.000000    607.540000     20.000000   3866.000000   2425.840000   \n",
       "\n",
       "       ...           BSW  GOR(MSFC/BPPD)  GLR(SCF/BFPD)           API  \\\n",
       "count  ...  58979.000000    58979.000000   58979.000000  58979.000000   \n",
       "mean   ...     39.730874       97.704274      60.011508     22.250739   \n",
       "std    ...     31.568172       64.896288      56.206490      5.714801   \n",
       "min    ...      0.000000        0.000000       0.000000     10.000000   \n",
       "25%    ...      5.000000       55.991627      16.801999     18.000000   \n",
       "50%    ...     38.000000       84.003411      42.560000     19.200000   \n",
       "75%    ...     70.000000      145.814707      82.331081     27.100000   \n",
       "max    ...     99.000000      300.000000     300.000000     42.000000   \n",
       "\n",
       "           FREC(Hz)      PIP(PSI)  INTAKE_DEPTH      AMPERAGE      WHP(PSI)  \\\n",
       "count  58979.000000  58075.000000  58979.000000  58979.000000  58979.000000   \n",
       "mean      61.604775    494.972312   9611.645366     36.663072    113.594751   \n",
       "std       17.699490    417.350432    514.492850     16.583678     75.641891   \n",
       "min       25.000000      0.000000   8000.000000     20.000000      0.500000   \n",
       "25%       54.000000    262.000000   9392.000000     23.000000     50.000000   \n",
       "50%       57.000000    356.000000   9589.000000     31.000000    100.000000   \n",
       "75%       63.000000    561.000000   9899.000000     48.000000    150.000000   \n",
       "max      150.000000   5000.000000  11850.000000    150.000000    400.000000   \n",
       "\n",
       "            FAILURE  \n",
       "count  58979.000000  \n",
       "mean       0.002119  \n",
       "std        0.052850  \n",
       "min        0.000000  \n",
       "25%        0.000000  \n",
       "50%        0.000000  \n",
       "75%        0.000000  \n",
       "max        2.000000  \n",
       "\n",
       "[8 rows x 22 columns]"
      ]
     },
     "execution_count": 4,
     "metadata": {},
     "output_type": "execute_result"
    }
   ],
   "source": [
    "data.describe()"
   ]
  },
  {
   "cell_type": "markdown",
   "metadata": {},
   "source": [
    "Let's check the type of values we have in each column. We have 3 categorical variables : DATE, WELL_ID, and PUMP. The remaining features are typed as float, and target's values are integers."
   ]
  },
  {
   "cell_type": "code",
   "execution_count": 5,
   "metadata": {},
   "outputs": [
    {
     "name": "stdout",
     "output_type": "stream",
     "text": [
      "{'DATE': dtype('O'), 'WELL_ID': dtype('O'), 'CURRENT': dtype('float64'), 'PRESS_DESC': dtype('float64'), 'FREQUENCY': dtype('float64'), 'PRESS_INT': dtype('float64'), 'TEMP_INT': dtype('float64'), 'TEMP_MOT': dtype('float64'), 'OUT_VOLT': dtype('float64'), 'VIBRATION': dtype('float64'), 'BFPD': dtype('float64'), 'BOPD': dtype('float64'), 'BWPD': dtype('float64'), 'MSCF': dtype('float64'), 'BSW': dtype('float64'), 'GOR(MSFC/BPPD)': dtype('float64'), 'GLR(SCF/BFPD)': dtype('float64'), 'API': dtype('float64'), 'FREC(Hz)': dtype('float64'), 'PIP(PSI)': dtype('float64'), 'INTAKE_DEPTH': dtype('float64'), 'AMPERAGE': dtype('float64'), 'PUMP': dtype('O'), 'WHP(PSI)': dtype('float64'), 'FAILURE': dtype('int64')}\n"
     ]
    }
   ],
   "source": [
    "print(dict(data.dtypes))"
   ]
  },
  {
   "cell_type": "markdown",
   "metadata": {},
   "source": [
    "> #### Feature Description    \n",
    "\n",
    "High Frequency Data\n",
    "- CURRENT(Amperes)\n",
    "- PRESS_DESC: Discharge Pressure (Psi)\n",
    "- FREQUENCY(Hz)\n",
    "- PRES_INT: Intake Pressure (Psi)\n",
    "- TEMP_INT: Intake Temperature (°F)\n",
    "- TEMP_MOT: Engine temperature (°F)\n",
    "- OUT_VOLT: Output Voltage (V)\n",
    "- PRES_INTK: Intake Pressure (Psi)\n",
    "- TEMP_INTK: Intake Temperature (°F)\n",
    "- Vibration: \n",
    "\tNormal Range Values lie between 0 - 0.8\n",
    "\tSensor shows alerts when tren is up\n",
    "\tValues over 10 could mean wrong information (noise) or damage in the pumps\n",
    "\tOutliers in the readings mean piezoelectric is damaged\n",
    "\t\n",
    "Production Data\n",
    "- BFPD: Barrels of Fluid per Day\t\n",
    "- BOPD: Barrels of Oil per Day\t\n",
    "- BWPD: Barrels of Water per Day\n",
    "- MSCF: Million of Standard Cubic Feet\n",
    "- BSW: Basic sediment and water (%)\n",
    "- GOR(MSFC/BPPD): Gas-oil Relation\n",
    "- GLR(SCF/BFPD): Gas-liquid Relation\n",
    "- API: Oil API Gravity\n",
    "- FREC(Hz): Frequency\t\n",
    "- PIP(PSI):  Pump intake pressure\n",
    "- PROF_INTAKE(ft): Intake Depth \n",
    "- AMPERAGE: Current\n",
    "- PUMP: Pump name\n",
    "- PSI_CAB: Wellhead Pressure\n"
   ]
  },
  {
   "cell_type": "markdown",
   "metadata": {},
   "source": [
    "Now, let's take a closer look at the target values. \n",
    "* We have 3 classes : 0 for normal pump, 1 for failure, 2 for manual-off.\n",
    "* Our dataset is highly-imbalanced.\n",
    "* The class 0 for 'normal' is present in most of the rows."
   ]
  },
  {
   "cell_type": "code",
   "execution_count": 6,
   "metadata": {},
   "outputs": [
    {
     "data": {
      "text/plain": [
       "0    58874\n",
       "1       85\n",
       "2       20\n",
       "Name: FAILURE, dtype: int64"
      ]
     },
     "execution_count": 6,
     "metadata": {},
     "output_type": "execute_result"
    }
   ],
   "source": [
    "data.FAILURE.value_counts()"
   ]
  },
  {
   "cell_type": "code",
   "execution_count": 7,
   "metadata": {},
   "outputs": [
    {
     "data": {
      "image/png": "[encoded data removed]",
      "text/plain": [
       "<Figure size 576x360 with 1 Axes>"
      ]
     },
     "metadata": {},
     "output_type": "display_data"
    }
   ],
   "source": [
    "sns.set_style('darkgrid')\n",
    "plt.figure(figsize=(8, 5))\n",
    "sns.countplot(data[\"FAILURE\"])\n",
    "plt.title('Target Variable Distribution')\n",
    "plt.ylabel('# Count')\n",
    "plt.show()"
   ]
  },
  {
   "cell_type": "markdown",
   "metadata": {},
   "source": [
    "Let's look for missing values in our dataset. We have columns with missing values, but the target variable doesn't have any missing value."
   ]
  },
  {
   "cell_type": "code",
   "execution_count": 8,
   "metadata": {},
   "outputs": [
    {
     "data": {
      "text/plain": [
       "DATE                  0\n",
       "WELL_ID               0\n",
       "CURRENT               0\n",
       "PRESS_DESC         1785\n",
       "FREQUENCY             0\n",
       "PRESS_INT             0\n",
       "TEMP_INT            476\n",
       "TEMP_MOT            811\n",
       "OUT_VOLT          31253\n",
       "VIBRATION          2313\n",
       "BFPD                  0\n",
       "BOPD                  0\n",
       "BWPD                  0\n",
       "MSCF                  0\n",
       "BSW                   0\n",
       "GOR(MSFC/BPPD)        0\n",
       "GLR(SCF/BFPD)         0\n",
       "API                   0\n",
       "FREC(Hz)              0\n",
       "PIP(PSI)            904\n",
       "INTAKE_DEPTH          0\n",
       "AMPERAGE              0\n",
       "PUMP                  0\n",
       "WHP(PSI)              0\n",
       "FAILURE               0\n",
       "dtype: int64"
      ]
     },
     "execution_count": 8,
     "metadata": {},
     "output_type": "execute_result"
    }
   ],
   "source": [
    "data.isna().sum()"
   ]
  },
  {
   "cell_type": "markdown",
   "metadata": {},
   "source": [
    "#### Cleaning & Preparing Data"
   ]
  },
  {
   "cell_type": "markdown",
   "metadata": {},
   "source": [
    "**Transforming Date**"
   ]
  },
  {
   "cell_type": "code",
   "execution_count": 9,
   "metadata": {},
   "outputs": [],
   "source": [
    "data['DATE'] = pd.to_datetime(data['DATE'], infer_datetime_format=True)\n",
    "data = data.set_index('DATE')"
   ]
  },
  {
   "cell_type": "markdown",
   "metadata": {},
   "source": [
    "**Imputing missing values**"
   ]
  },
  {
   "cell_type": "code",
   "execution_count": 10,
   "metadata": {},
   "outputs": [],
   "source": [
    "data.fillna(method='bfill', inplace=True)\n",
    "assert data.isna().sum().sum() == 0"
   ]
  },
  {
   "cell_type": "markdown",
   "metadata": {},
   "source": [
    "**Encoding Categorical Features**"
   ]
  },
  {
   "cell_type": "code",
   "execution_count": 11,
   "metadata": {},
   "outputs": [],
   "source": [
    "# Ordinal Encoding for WELL_ID feature\n",
    "nums = np.arange(1,len(data['WELL_ID'].unique())+1)\n",
    "data_dict = dict(zip(data['WELL_ID'].unique(),nums))\n",
    "data['WELL_ID'] = data['WELL_ID'].replace(data_dict)\n",
    "# Ordinal Encoding for PUMP feature\n",
    "pump_names = data['PUMP'].str.split(pat='-', n=1, expand=True)\n",
    "data['PUMP'] = pump_names[1]\n",
    "data['PUMP'] = data['PUMP'].astype(int)\n"
   ]
  },
  {
   "cell_type": "markdown",
   "metadata": {},
   "source": [
    "**Visualizing Data**"
   ]
  },
  {
   "cell_type": "code",
   "execution_count": 12,
   "metadata": {},
   "outputs": [
    {
     "data": {
      "text/plain": [
       "array([[<AxesSubplot:xlabel='DATE'>, <AxesSubplot:xlabel='DATE'>,\n",
       "        <AxesSubplot:xlabel='DATE'>, <AxesSubplot:xlabel='DATE'>,\n",
       "        <AxesSubplot:xlabel='DATE'>, <AxesSubplot:xlabel='DATE'>],\n",
       "       [<AxesSubplot:xlabel='DATE'>, <AxesSubplot:xlabel='DATE'>,\n",
       "        <AxesSubplot:xlabel='DATE'>, <AxesSubplot:xlabel='DATE'>,\n",
       "        <AxesSubplot:xlabel='DATE'>, <AxesSubplot:xlabel='DATE'>],\n",
       "       [<AxesSubplot:xlabel='DATE'>, <AxesSubplot:xlabel='DATE'>,\n",
       "        <AxesSubplot:xlabel='DATE'>, <AxesSubplot:xlabel='DATE'>,\n",
       "        <AxesSubplot:xlabel='DATE'>, <AxesSubplot:xlabel='DATE'>],\n",
       "       [<AxesSubplot:xlabel='DATE'>, <AxesSubplot:xlabel='DATE'>,\n",
       "        <AxesSubplot:xlabel='DATE'>, <AxesSubplot:xlabel='DATE'>,\n",
       "        <AxesSubplot:xlabel='DATE'>, <AxesSubplot:xlabel='DATE'>]],\n",
       "      dtype=object)"
      ]
     },
     "execution_count": 12,
     "metadata": {},
     "output_type": "execute_result"
    },
    {
     "data": {
      "image/png": "[encoded data removed]",
      "text/plain": [
       "<Figure size 1440x504 with 24 Axes>"
      ]
     },
     "metadata": {},
     "output_type": "display_data"
    }
   ],
   "source": [
    "data[['CURRENT','PRESS_DESC', 'FREQUENCY', 'PRESS_INT','TEMP_INT', 'TEMP_MOT', 'OUT_VOLT', 'VIBRATION', 'BFPD', 'BOPD', 'BWPD','MSCF', 'BSW', 'GOR(MSFC/BPPD)', 'GLR(SCF/BFPD)', 'API', 'FREC(Hz)',\n",
    "       'PIP(PSI)', 'INTAKE_DEPTH', 'AMPERAGE', 'WHP(PSI)', 'FAILURE']].plot(subplots=True,figsize=(20, 7), layout=(4,6))"
   ]
  },
  {
   "cell_type": "markdown",
   "metadata": {},
   "source": [
    "**Handling Imbalanced Target**"
   ]
  },
  {
   "cell_type": "code",
   "execution_count": 13,
   "metadata": {},
   "outputs": [
    {
     "data": {
      "text/plain": [
       "0    58874\n",
       "1    10395\n",
       "Name: FAILURE, dtype: int64"
      ]
     },
     "execution_count": 13,
     "metadata": {},
     "output_type": "execute_result"
    }
   ],
   "source": [
    "data['FAILURE'].replace(2,1, inplace=True)\n",
    "failure_resampling=pd.DataFrame()\n",
    "for i in range(1, 100):\n",
    "    failure_resampling=pd.concat([failure_resampling, data[data[\"FAILURE\"]==1]], axis=0)\n",
    "\n",
    "data=pd.concat([data[data[\"FAILURE\"]==0],failure_resampling], axis=0)\n",
    "data=data.sort_values([\"WELL_ID\",\"DATE\"])\n",
    "\n",
    "data['FAILURE'].value_counts()"
   ]
  },
  {
   "cell_type": "markdown",
   "metadata": {},
   "source": [
    "**Selecting Features & Splitting Data**"
   ]
  },
  {
   "cell_type": "code",
   "execution_count": 14,
   "metadata": {},
   "outputs": [
    {
     "name": "stdout",
     "output_type": "stream",
     "text": [
      "> We'll use these features for training : ['WELL_ID', 'CURRENT', 'PRESS_DESC', 'FREQUENCY', 'PRESS_INT', 'TEMP_INT', 'TEMP_MOT', 'VIBRATION', 'INTAKE_DEPTH']\n"
     ]
    }
   ],
   "source": [
    "well_data = data #.sort_index(ascending=True)\n",
    "#features = list(well_data.keys().drop(['FAILURE','PUMP','PIP(PSI)','AMPERAGE', 'FREC(Hz)','WHP(PSI)','MSCF','BFPD'])) #,'MSCF','BFPD', 'PUMP'\n",
    "\n",
    "features = ['WELL_ID','CURRENT','PRESS_DESC','FREQUENCY','PRESS_INT','TEMP_INT','TEMP_MOT','VIBRATION', 'INTAKE_DEPTH']\n",
    "\n",
    "target = 'FAILURE'\n",
    "print(\"> We'll use these features for training :\", features)\n",
    "\n",
    "X = well_data[features].copy()\n",
    "y = well_data[target].copy()\n",
    "\n",
    "X_train, X_test, y_train, y_test = train_test_split(X,y, test_size=0.3, shuffle=False)\n"
   ]
  },
  {
   "cell_type": "markdown",
   "metadata": {},
   "source": [
    "**Scaling and Normalizing**"
   ]
  },
  {
   "cell_type": "code",
   "execution_count": 15,
   "metadata": {},
   "outputs": [],
   "source": [
    "# Scaling numerical features, we don't want the WELL_ID to be scaled \n",
    "scalable_features = X.columns.to_list()\n",
    "scalable_features.remove('WELL_ID')\n",
    "cat_features = ['WELL_ID']\n",
    "\n",
    "min_max_scaler = MinMaxScaler()\n",
    "\n",
    "X_train_scaled = pd.DataFrame(min_max_scaler.fit_transform(X_train[scalable_features]), columns=scalable_features)\n",
    "X_test_scaled = pd.DataFrame(min_max_scaler.transform(X_test[scalable_features]), columns=scalable_features)\n",
    "\n",
    "X_train_scaled.index = X_train.index\n",
    "X_test_scaled.index = X_test.index\n",
    "\n",
    "cat_X_train = X_train.drop(scalable_features, axis=1)\n",
    "cat_X_test = X_test.drop(scalable_features, axis=1)"
   ]
  },
  {
   "cell_type": "markdown",
   "metadata": {},
   "source": [
    "**Reducing Dataset Dimensionality with PCA**"
   ]
  },
  {
   "cell_type": "markdown",
   "metadata": {},
   "source": [
    "Principal Component Analysis (PCA) is used to reduce the number of variables of the dataset, while preserving as much information as possible."
   ]
  },
  {
   "cell_type": "code",
   "execution_count": 16,
   "metadata": {},
   "outputs": [],
   "source": [
    "from sklearn.decomposition import PCA\n",
    "\n",
    "pca = PCA(n_components=4)\n",
    "columns = ['pca_%i' % i for i in range(4)]\n",
    "X_train_scaled = pd.DataFrame(pca.fit_transform(X_train_scaled), columns=columns, index=X_train_scaled.index)\n",
    "X_test_scaled = pd.DataFrame(pca.transform(X_test_scaled), columns=columns, index=X_test_scaled.index)"
   ]
  },
  {
   "cell_type": "code",
   "execution_count": 17,
   "metadata": {},
   "outputs": [],
   "source": [
    "X_train_well = pd.concat([cat_X_train, X_train_scaled], axis=1)\n",
    "X_test_well = pd.concat([cat_X_test, X_test_scaled], axis=1)\n",
    "\n",
    "X_train = pd.concat([cat_X_train, X_train_scaled], axis=1).drop(columns=['WELL_ID'])\n",
    "X_test = pd.concat([cat_X_test, X_test_scaled], axis=1).drop(columns=['WELL_ID'])"
   ]
  },
  {
   "cell_type": "code",
   "execution_count": 18,
   "metadata": {},
   "outputs": [
    {
     "name": "stdout",
     "output_type": "stream",
     "text": [
      "Training (48488, 4) (48488,)\n",
      "Test (20781, 4) (20781,)\n"
     ]
    }
   ],
   "source": [
    "print(\"Training\", X_train.shape, y_train.shape)\n",
    "print(\"Test\",X_test.shape, y_test.shape)"
   ]
  },
  {
   "cell_type": "markdown",
   "metadata": {},
   "source": [
    "**Generating Time Sequences**"
   ]
  },
  {
   "cell_type": "code",
   "execution_count": 19,
   "metadata": {},
   "outputs": [],
   "source": [
    "from keras.preprocessing.sequence import TimeseriesGenerator\n",
    "window = 20 \n",
    "batch_size = 200\n",
    "num_features = 4\n",
    "s = 1\n",
    "r = 1\n",
    "train_generator = TimeseriesGenerator(X_train.to_numpy(), y_train, length=window, stride=s, sampling_rate=r, batch_size=batch_size)\n",
    "test_generator = TimeseriesGenerator(X_test.to_numpy(), y_test, length=window, stride=s, sampling_rate=r, batch_size=batch_size)\n",
    "\n",
    "from sklearn.utils.class_weight import compute_class_weight  \n",
    "class_weights = dict(zip(well_data['FAILURE'].unique(), compute_class_weight(class_weight = \"balanced\", classes = well_data['FAILURE'].unique(), y=well_data['FAILURE'].values)))\n"
   ]
  },
  {
   "cell_type": "markdown",
   "metadata": {},
   "source": [
    "#### Modeling & Evaluation"
   ]
  },
  {
   "cell_type": "markdown",
   "metadata": {},
   "source": [
    "**Training LSTM Model**"
   ]
  },
  {
   "cell_type": "code",
   "execution_count": 20,
   "metadata": {},
   "outputs": [],
   "source": [
    "model = Sequential()\n",
    "reg = tf.keras.regularizers.L2(0.005)\n",
    "model.add(LSTM(100,dropout=0.15, activation=\"tanh\", input_shape=(window, num_features), return_sequences = True, kernel_regularizer=reg))\n",
    "model.add(LSTM(50,dropout=0.15,  activation=\"tanh\", return_sequences=False, kernel_regularizer=reg))\n",
    "model.add(Dense(1, activation=\"sigmoid\", kernel_regularizer=reg))\n",
    "model.compile(loss='binary_crossentropy', optimizer='adam', metrics=['accuracy'])"
   ]
  },
  {
   "cell_type": "code",
   "execution_count": 21,
   "metadata": {},
   "outputs": [
    {
     "name": "stdout",
     "output_type": "stream",
     "text": [
      "Epoch 1/100\n",
      "243/243 [==============================] - 7s 15ms/step - loss: 0.8355 - accuracy: 0.6372 - val_loss: 0.6355 - val_accuracy: 0.7256\n",
      "Epoch 2/100\n",
      "243/243 [==============================] - 3s 12ms/step - loss: 0.6917 - accuracy: 0.6322 - val_loss: 0.7079 - val_accuracy: 0.6744\n",
      "Epoch 3/100\n",
      "243/243 [==============================] - 3s 11ms/step - loss: 0.6670 - accuracy: 0.6661 - val_loss: 0.6864 - val_accuracy: 0.6698\n",
      "Epoch 4/100\n",
      "243/243 [==============================] - 3s 12ms/step - loss: 0.6544 - accuracy: 0.6657 - val_loss: 0.6622 - val_accuracy: 0.6623\n",
      "Epoch 5/100\n",
      "243/243 [==============================] - 3s 12ms/step - loss: 0.6507 - accuracy: 0.6545 - val_loss: 0.6599 - val_accuracy: 0.6582\n",
      "Epoch 6/100\n",
      "243/243 [==============================] - 3s 11ms/step - loss: 0.6475 - accuracy: 0.6504 - val_loss: 0.6576 - val_accuracy: 0.6586\n",
      "Epoch 7/100\n",
      "243/243 [==============================] - 3s 11ms/step - loss: 0.6456 - accuracy: 0.6488 - val_loss: 0.6594 - val_accuracy: 0.6536\n",
      "Epoch 8/100\n",
      "243/243 [==============================] - 3s 11ms/step - loss: 0.6428 - accuracy: 0.6461 - val_loss: 0.6541 - val_accuracy: 0.6568\n",
      "Epoch 9/100\n",
      "243/243 [==============================] - 3s 11ms/step - loss: 0.6424 - accuracy: 0.6447 - val_loss: 0.6522 - val_accuracy: 0.6541\n",
      "Epoch 10/100\n",
      "243/243 [==============================] - 3s 11ms/step - loss: 0.6497 - accuracy: 0.6088 - val_loss: 0.6441 - val_accuracy: 0.6523\n",
      "Epoch 11/100\n",
      "243/243 [==============================] - 3s 11ms/step - loss: 0.6429 - accuracy: 0.6303 - val_loss: 0.6528 - val_accuracy: 0.6493\n",
      "Epoch 12/100\n",
      "243/243 [==============================] - 3s 11ms/step - loss: 0.6406 - accuracy: 0.6348 - val_loss: 0.6384 - val_accuracy: 0.6555\n",
      "Epoch 13/100\n",
      "243/243 [==============================] - 3s 11ms/step - loss: 0.6409 - accuracy: 0.6295 - val_loss: 0.6512 - val_accuracy: 0.6599\n",
      "Epoch 14/100\n",
      "243/243 [==============================] - 3s 11ms/step - loss: 0.6369 - accuracy: 0.6410 - val_loss: 0.6464 - val_accuracy: 0.6575\n",
      "Epoch 15/100\n",
      "243/243 [==============================] - 3s 11ms/step - loss: 0.6385 - accuracy: 0.6350 - val_loss: 0.6506 - val_accuracy: 0.6587\n",
      "Epoch 16/100\n",
      "243/243 [==============================] - 3s 11ms/step - loss: 0.6352 - accuracy: 0.6431 - val_loss: 0.6464 - val_accuracy: 0.6588\n",
      "Epoch 17/100\n",
      "243/243 [==============================] - 3s 11ms/step - loss: 0.6360 - accuracy: 0.6429 - val_loss: 0.6402 - val_accuracy: 0.6622\n",
      "Epoch 18/100\n",
      "243/243 [==============================] - 3s 11ms/step - loss: 0.6358 - accuracy: 0.6416 - val_loss: 0.6339 - val_accuracy: 0.6659\n",
      "Epoch 19/100\n",
      "243/243 [==============================] - 3s 11ms/step - loss: 0.6308 - accuracy: 0.6582 - val_loss: 0.6176 - val_accuracy: 0.6812\n",
      "Epoch 20/100\n",
      "243/243 [==============================] - 3s 11ms/step - loss: 0.6273 - accuracy: 0.6613 - val_loss: 0.6275 - val_accuracy: 0.6803\n",
      "Epoch 21/100\n",
      "243/243 [==============================] - 3s 11ms/step - loss: 0.6248 - accuracy: 0.6617 - val_loss: 0.6487 - val_accuracy: 0.6708\n",
      "Epoch 22/100\n",
      "243/243 [==============================] - 3s 11ms/step - loss: 0.6335 - accuracy: 0.6382 - val_loss: 0.6059 - val_accuracy: 0.7083\n",
      "Epoch 23/100\n",
      "243/243 [==============================] - 3s 11ms/step - loss: 0.6206 - accuracy: 0.6686 - val_loss: 0.6122 - val_accuracy: 0.7023\n",
      "Epoch 24/100\n",
      "243/243 [==============================] - 3s 11ms/step - loss: 0.6268 - accuracy: 0.6628 - val_loss: 0.6305 - val_accuracy: 0.6900\n",
      "Epoch 25/100\n",
      "243/243 [==============================] - 3s 11ms/step - loss: 0.6177 - accuracy: 0.6711 - val_loss: 0.6224 - val_accuracy: 0.6910\n",
      "Epoch 26/100\n",
      "243/243 [==============================] - 3s 11ms/step - loss: 0.6181 - accuracy: 0.6699 - val_loss: 0.6215 - val_accuracy: 0.6860\n",
      "Epoch 27/100\n",
      "243/243 [==============================] - 3s 11ms/step - loss: 0.6195 - accuracy: 0.6763 - val_loss: 0.6098 - val_accuracy: 0.6934\n",
      "Epoch 28/100\n",
      "243/243 [==============================] - 3s 11ms/step - loss: 0.6215 - accuracy: 0.6752 - val_loss: 0.6222 - val_accuracy: 0.6955\n",
      "Epoch 29/100\n",
      "243/243 [==============================] - 3s 11ms/step - loss: 0.6173 - accuracy: 0.6734 - val_loss: 0.6235 - val_accuracy: 0.6833\n",
      "Epoch 30/100\n",
      "243/243 [==============================] - 3s 11ms/step - loss: 0.6215 - accuracy: 0.6727 - val_loss: 0.5893 - val_accuracy: 0.6831\n",
      "Epoch 31/100\n",
      "243/243 [==============================] - 3s 11ms/step - loss: 0.6195 - accuracy: 0.6785 - val_loss: 0.6305 - val_accuracy: 0.6908\n",
      "Epoch 32/100\n",
      "243/243 [==============================] - 3s 11ms/step - loss: 0.6185 - accuracy: 0.6717 - val_loss: 0.6163 - val_accuracy: 0.6873\n",
      "Epoch 33/100\n",
      "243/243 [==============================] - 3s 11ms/step - loss: 0.6147 - accuracy: 0.6760 - val_loss: 0.6259 - val_accuracy: 0.6770\n",
      "Epoch 34/100\n",
      "243/243 [==============================] - 3s 12ms/step - loss: 0.6115 - accuracy: 0.6775 - val_loss: 0.5738 - val_accuracy: 0.7007\n",
      "Epoch 35/100\n",
      "243/243 [==============================] - 3s 11ms/step - loss: 0.6177 - accuracy: 0.6776 - val_loss: 0.6186 - val_accuracy: 0.6980\n",
      "Epoch 36/100\n",
      "243/243 [==============================] - 3s 11ms/step - loss: 0.6187 - accuracy: 0.6740 - val_loss: 0.6130 - val_accuracy: 0.6899\n",
      "Epoch 37/100\n",
      "243/243 [==============================] - 3s 11ms/step - loss: 0.6115 - accuracy: 0.6793 - val_loss: 0.6053 - val_accuracy: 0.6896\n",
      "Epoch 38/100\n",
      "243/243 [==============================] - 3s 11ms/step - loss: 0.6151 - accuracy: 0.6813 - val_loss: 0.6230 - val_accuracy: 0.6741\n",
      "Epoch 39/100\n",
      "243/243 [==============================] - 3s 11ms/step - loss: 0.6135 - accuracy: 0.6766 - val_loss: 0.6169 - val_accuracy: 0.6852\n",
      "Epoch 40/100\n",
      "243/243 [==============================] - 3s 11ms/step - loss: 0.6143 - accuracy: 0.6767 - val_loss: 0.6142 - val_accuracy: 0.6799\n",
      "Epoch 41/100\n",
      "243/243 [==============================] - 3s 11ms/step - loss: 0.6110 - accuracy: 0.6804 - val_loss: 0.6201 - val_accuracy: 0.6759\n",
      "Epoch 42/100\n",
      "243/243 [==============================] - 3s 11ms/step - loss: 0.6098 - accuracy: 0.6817 - val_loss: 0.6099 - val_accuracy: 0.6793\n",
      "Epoch 43/100\n",
      "243/243 [==============================] - 3s 11ms/step - loss: 0.6092 - accuracy: 0.6821 - val_loss: 0.6113 - val_accuracy: 0.6731\n",
      "Epoch 44/100\n",
      "243/243 [==============================] - 3s 11ms/step - loss: 0.6115 - accuracy: 0.6860 - val_loss: 0.6331 - val_accuracy: 0.6636\n",
      "Epoch 45/100\n",
      "243/243 [==============================] - 3s 11ms/step - loss: 0.6140 - accuracy: 0.6923 - val_loss: 0.6064 - val_accuracy: 0.6911\n",
      "Epoch 46/100\n",
      "243/243 [==============================] - 3s 11ms/step - loss: 0.6059 - accuracy: 0.6952 - val_loss: 0.6045 - val_accuracy: 0.6869\n",
      "Epoch 47/100\n",
      "243/243 [==============================] - 3s 11ms/step - loss: 0.6059 - accuracy: 0.6906 - val_loss: 0.6004 - val_accuracy: 0.6888\n",
      "Epoch 48/100\n",
      "243/243 [==============================] - 3s 11ms/step - loss: 0.6066 - accuracy: 0.6930 - val_loss: 0.5936 - val_accuracy: 0.7005\n",
      "Epoch 49/100\n",
      "243/243 [==============================] - 3s 11ms/step - loss: 0.6041 - accuracy: 0.7057 - val_loss: 0.6103 - val_accuracy: 0.6788\n",
      "Epoch 50/100\n",
      "243/243 [==============================] - 3s 11ms/step - loss: 0.6048 - accuracy: 0.7017 - val_loss: 0.6044 - val_accuracy: 0.6837\n",
      "Epoch 51/100\n",
      "243/243 [==============================] - 3s 13ms/step - loss: 0.6045 - accuracy: 0.7076 - val_loss: 0.5986 - val_accuracy: 0.6944\n",
      "Epoch 52/100\n",
      "243/243 [==============================] - 3s 12ms/step - loss: 0.6039 - accuracy: 0.7133 - val_loss: 0.5965 - val_accuracy: 0.6896\n",
      "Epoch 53/100\n",
      "243/243 [==============================] - 3s 12ms/step - loss: 0.6036 - accuracy: 0.7157 - val_loss: 0.6119 - val_accuracy: 0.6739\n",
      "Epoch 54/100\n",
      "243/243 [==============================] - 3s 12ms/step - loss: 0.6027 - accuracy: 0.7132 - val_loss: 0.5964 - val_accuracy: 0.6962\n",
      "Epoch 55/100\n",
      "243/243 [==============================] - 3s 12ms/step - loss: 0.6024 - accuracy: 0.7120 - val_loss: 0.6000 - val_accuracy: 0.6990\n",
      "Epoch 56/100\n",
      "243/243 [==============================] - 3s 11ms/step - loss: 0.6024 - accuracy: 0.7194 - val_loss: 0.6077 - val_accuracy: 0.6849\n",
      "Epoch 57/100\n",
      "243/243 [==============================] - 3s 11ms/step - loss: 0.6047 - accuracy: 0.7154 - val_loss: 0.6071 - val_accuracy: 0.6886\n",
      "Epoch 58/100\n",
      "243/243 [==============================] - 3s 11ms/step - loss: 0.5997 - accuracy: 0.7113 - val_loss: 0.6102 - val_accuracy: 0.6865\n",
      "Epoch 59/100\n",
      "243/243 [==============================] - 3s 11ms/step - loss: 0.5999 - accuracy: 0.7146 - val_loss: 0.5891 - val_accuracy: 0.7073\n",
      "Epoch 60/100\n",
      "243/243 [==============================] - 3s 11ms/step - loss: 0.6005 - accuracy: 0.7160 - val_loss: 0.6593 - val_accuracy: 0.6633\n",
      "Epoch 61/100\n",
      "243/243 [==============================] - 3s 11ms/step - loss: 0.6021 - accuracy: 0.7108 - val_loss: 0.5992 - val_accuracy: 0.6964\n",
      "Epoch 62/100\n",
      "243/243 [==============================] - 3s 11ms/step - loss: 0.5988 - accuracy: 0.7179 - val_loss: 0.6329 - val_accuracy: 0.6720\n",
      "Epoch 63/100\n",
      "243/243 [==============================] - 3s 11ms/step - loss: 0.6032 - accuracy: 0.7080 - val_loss: 0.5987 - val_accuracy: 0.7033\n",
      "Epoch 64/100\n",
      "243/243 [==============================] - 3s 11ms/step - loss: 0.6015 - accuracy: 0.7081 - val_loss: 0.6178 - val_accuracy: 0.6767\n",
      "Epoch 65/100\n",
      "243/243 [==============================] - 3s 11ms/step - loss: 0.5973 - accuracy: 0.7108 - val_loss: 0.5995 - val_accuracy: 0.7039\n",
      "Epoch 66/100\n",
      "243/243 [==============================] - 3s 11ms/step - loss: 0.5992 - accuracy: 0.7160 - val_loss: 0.6283 - val_accuracy: 0.6838\n",
      "Epoch 67/100\n",
      "243/243 [==============================] - 3s 11ms/step - loss: 0.5982 - accuracy: 0.7174 - val_loss: 0.6088 - val_accuracy: 0.6916\n",
      "Epoch 68/100\n",
      "243/243 [==============================] - 3s 11ms/step - loss: 0.5966 - accuracy: 0.7137 - val_loss: 0.6141 - val_accuracy: 0.6883\n",
      "Epoch 69/100\n",
      "243/243 [==============================] - 3s 11ms/step - loss: 0.5997 - accuracy: 0.7181 - val_loss: 0.6039 - val_accuracy: 0.6968\n",
      "Epoch 70/100\n",
      "243/243 [==============================] - 3s 11ms/step - loss: 0.5973 - accuracy: 0.7139 - val_loss: 0.6110 - val_accuracy: 0.6896\n",
      "Epoch 71/100\n",
      "243/243 [==============================] - 3s 11ms/step - loss: 0.5953 - accuracy: 0.7180 - val_loss: 0.6091 - val_accuracy: 0.6892\n",
      "Epoch 72/100\n",
      "243/243 [==============================] - 3s 11ms/step - loss: 0.6036 - accuracy: 0.7098 - val_loss: 0.6033 - val_accuracy: 0.7067\n",
      "Epoch 73/100\n",
      "243/243 [==============================] - 3s 11ms/step - loss: 0.6009 - accuracy: 0.7137 - val_loss: 0.6039 - val_accuracy: 0.7037\n",
      "Epoch 74/100\n",
      "243/243 [==============================] - 3s 11ms/step - loss: 0.5952 - accuracy: 0.7197 - val_loss: 0.6148 - val_accuracy: 0.6927\n",
      "Epoch 75/100\n",
      "243/243 [==============================] - 3s 11ms/step - loss: 0.5962 - accuracy: 0.7204 - val_loss: 0.6214 - val_accuracy: 0.6832\n",
      "Epoch 76/100\n",
      "243/243 [==============================] - 3s 11ms/step - loss: 0.5972 - accuracy: 0.7136 - val_loss: 0.6038 - val_accuracy: 0.6847\n",
      "Epoch 77/100\n",
      "243/243 [==============================] - 3s 11ms/step - loss: 0.5945 - accuracy: 0.7168 - val_loss: 0.5930 - val_accuracy: 0.6893\n",
      "Epoch 78/100\n",
      "243/243 [==============================] - 3s 11ms/step - loss: 0.6023 - accuracy: 0.7089 - val_loss: 0.6071 - val_accuracy: 0.7084\n",
      "Epoch 79/100\n",
      "243/243 [==============================] - 3s 11ms/step - loss: 0.5938 - accuracy: 0.7222 - val_loss: 0.6212 - val_accuracy: 0.6890\n",
      "Epoch 80/100\n",
      "243/243 [==============================] - 3s 11ms/step - loss: 0.5940 - accuracy: 0.7222 - val_loss: 0.6110 - val_accuracy: 0.7078\n",
      "Epoch 81/100\n",
      "243/243 [==============================] - 3s 11ms/step - loss: 0.5930 - accuracy: 0.7208 - val_loss: 0.6153 - val_accuracy: 0.7073\n",
      "Epoch 82/100\n",
      "243/243 [==============================] - 3s 11ms/step - loss: 0.5930 - accuracy: 0.7284 - val_loss: 0.6309 - val_accuracy: 0.6836\n",
      "Epoch 83/100\n",
      "243/243 [==============================] - 3s 11ms/step - loss: 0.5927 - accuracy: 0.7222 - val_loss: 0.6082 - val_accuracy: 0.7091\n",
      "Epoch 84/100\n",
      "243/243 [==============================] - 3s 11ms/step - loss: 0.5933 - accuracy: 0.7291 - val_loss: 0.6389 - val_accuracy: 0.6756\n",
      "Epoch 85/100\n",
      "243/243 [==============================] - 3s 11ms/step - loss: 0.5909 - accuracy: 0.7266 - val_loss: 0.6012 - val_accuracy: 0.7220\n",
      "Epoch 86/100\n",
      "243/243 [==============================] - 3s 11ms/step - loss: 0.5906 - accuracy: 0.7325 - val_loss: 0.6058 - val_accuracy: 0.7171\n",
      "Epoch 87/100\n",
      "243/243 [==============================] - 3s 11ms/step - loss: 0.5893 - accuracy: 0.7331 - val_loss: 0.6030 - val_accuracy: 0.7049\n",
      "Epoch 88/100\n",
      "243/243 [==============================] - 3s 11ms/step - loss: 0.5915 - accuracy: 0.7317 - val_loss: 0.6069 - val_accuracy: 0.7219\n",
      "Epoch 89/100\n",
      "243/243 [==============================] - 3s 11ms/step - loss: 0.5879 - accuracy: 0.7356 - val_loss: 0.5755 - val_accuracy: 0.7513\n",
      "Epoch 90/100\n",
      "243/243 [==============================] - 3s 11ms/step - loss: 0.5912 - accuracy: 0.7346 - val_loss: 0.6121 - val_accuracy: 0.7217\n",
      "Epoch 91/100\n",
      "243/243 [==============================] - 3s 11ms/step - loss: 0.5860 - accuracy: 0.7379 - val_loss: 0.5971 - val_accuracy: 0.7462\n",
      "Epoch 92/100\n",
      "243/243 [==============================] - 3s 11ms/step - loss: 0.5918 - accuracy: 0.7314 - val_loss: 0.6073 - val_accuracy: 0.7201\n",
      "Epoch 93/100\n",
      "243/243 [==============================] - 3s 11ms/step - loss: 0.5813 - accuracy: 0.7406 - val_loss: 0.6093 - val_accuracy: 0.7162\n",
      "Epoch 94/100\n",
      "243/243 [==============================] - 3s 11ms/step - loss: 0.5835 - accuracy: 0.7367 - val_loss: 0.6006 - val_accuracy: 0.7315\n",
      "Epoch 95/100\n",
      "243/243 [==============================] - 3s 11ms/step - loss: 0.5842 - accuracy: 0.7400 - val_loss: 0.5924 - val_accuracy: 0.7354\n",
      "Epoch 96/100\n",
      "243/243 [==============================] - 3s 11ms/step - loss: 0.5849 - accuracy: 0.7399 - val_loss: 0.6022 - val_accuracy: 0.7214\n",
      "Epoch 97/100\n",
      "243/243 [==============================] - 3s 11ms/step - loss: 0.5976 - accuracy: 0.7429 - val_loss: 0.6295 - val_accuracy: 0.7043\n",
      "Epoch 98/100\n",
      "243/243 [==============================] - 3s 12ms/step - loss: 0.5858 - accuracy: 0.7333 - val_loss: 0.6147 - val_accuracy: 0.7146\n",
      "Epoch 99/100\n",
      "243/243 [==============================] - 3s 11ms/step - loss: 0.5762 - accuracy: 0.7453 - val_loss: 0.6048 - val_accuracy: 0.7248\n",
      "Epoch 100/100\n",
      "243/243 [==============================] - 3s 11ms/step - loss: 0.5775 - accuracy: 0.7416 - val_loss: 0.6042 - val_accuracy: 0.7210\n"
     ]
    }
   ],
   "source": [
    "history = model.fit(train_generator, epochs=100, validation_data=test_generator, shuffle=False, class_weight=class_weights)"
   ]
  },
  {
   "cell_type": "code",
   "execution_count": 22,
   "metadata": {},
   "outputs": [
    {
     "name": "stdout",
     "output_type": "stream",
     "text": [
      "243/243 [==============================] - 1s 5ms/step - loss: 0.5809 - accuracy: 0.7403\n",
      "Training Score: loss of 0.5809286236763; accuracy of 74.03441667556763%\n",
      "104/104 [==============================] - 1s 5ms/step - loss: 0.6042 - accuracy: 0.7210\n",
      "Test Score: loss of 0.6041828989982605; accuracy of 72.10153937339783%\n"
     ]
    }
   ],
   "source": [
    "# Training Accuracy & Loss\n",
    "scores = model.evaluate(train_generator)\n",
    "print(f'Training Score: {model.metrics_names[0]} of {scores[0]}; {model.metrics_names[1]} of {scores[1]*100}%')\n",
    "# Test Accuracy & Loss\n",
    "scores = model.evaluate(test_generator)\n",
    "print(f'Test Score: {model.metrics_names[0]} of {scores[0]}; {model.metrics_names[1]} of {scores[1]*100}%')"
   ]
  },
  {
   "cell_type": "code",
   "execution_count": 23,
   "metadata": {},
   "outputs": [
    {
     "data": {
      "image/png": "[encoded data removed]",
      "text/plain": [
       "<Figure size 1440x360 with 2 Axes>"
      ]
     },
     "metadata": {},
     "output_type": "display_data"
    }
   ],
   "source": [
    "def plot_eval(history):\n",
    "    acc = history.history['accuracy']\n",
    "    val_acc = history.history['val_accuracy']\n",
    "    loss = history.history['loss']\n",
    "    val_loss = history.history['val_loss']\n",
    "    epochs_range = range(100)\n",
    "    plt.figure(figsize=(20, 5))\n",
    "    plt.subplot(1, 2, 1)\n",
    "    plt.plot(epochs_range, acc, label='Training Accuracy')\n",
    "    plt.plot(epochs_range, val_acc, label='Validation Accuracy')\n",
    "    plt.legend(loc='lower right')\n",
    "    plt.title('Training and Validation Accuracy')\n",
    "    plt.subplot(1, 2, 2)\n",
    "    plt.plot(epochs_range, loss, label='Training Loss')\n",
    "    plt.plot(epochs_range, val_loss, label='Validation Loss')\n",
    "    plt.legend(loc='upper right')\n",
    "    plt.title('Training and Validation Loss')\n",
    "    plt.show()\n",
    "\n",
    "plot_eval(history)"
   ]
  },
  {
   "cell_type": "markdown",
   "metadata": {},
   "source": [
    "**Predict Pump Failure in Well**"
   ]
  },
  {
   "cell_type": "code",
   "execution_count": 24,
   "metadata": {},
   "outputs": [
    {
     "name": "stdout",
     "output_type": "stream",
     "text": [
      "Probability of ESP failure 10 days before actual failure in well 68 : 59.358906 %\n"
     ]
    }
   ],
   "source": [
    "from sklearn.metrics import plot_confusion_matrix, confusion_matrix\n",
    "\n",
    "\n",
    "def get_well_data(well_id): \n",
    "    dd = pd.concat([X_test_well, y_test], axis=1).query('WELL_ID == '+str(well_id))\n",
    "    features = ['pca_0','pca_1','pca_2','pca_3']\n",
    "    window = 10 \n",
    "    batch_size = 200\n",
    "    s = 1\n",
    "    r = 1\n",
    "    return dd, TimeseriesGenerator(dd[features].to_numpy(), dd[\"FAILURE\"], length=window, stride=s, sampling_rate=r, batch_size=batch_size)\n",
    "\n",
    "def predict_failure(well_id):\n",
    "    _, ts = get_well_data(well_id)\n",
    "    y_pred = model.predict(ts)\n",
    "    proba = list(y_pred[-1]*100)[0]\n",
    "    return proba\n",
    "\n",
    "well_id = 68\n",
    "print(\"Probability of ESP failure 10 days before actual failure in well\",well_id,\":\", predict_failure(well_id),\"%\" )"
   ]
  },
  {
   "cell_type": "code",
   "execution_count": 25,
   "metadata": {},
   "outputs": [
    {
     "data": {
      "image/png": "[encoded data removed]",
      "text/plain": [
       "<Figure size 1080x432 with 1 Axes>"
      ]
     },
     "metadata": {},
     "output_type": "display_data"
    }
   ],
   "source": [
    "welld, ts = get_well_data(well_id)\n",
    "plt.figure(figsize=(15,6))\n",
    "failure_index = welld.iloc[100:300].query(\"FAILURE == 1\").index\n",
    "#plt.plot(welld.iloc[100:300]['FAILURE'])\n",
    "plt.title('Failure Detection')\n",
    "plt.plot(pd.DataFrame(model.predict(ts)[100:300], index=welld.iloc[100:300].index))\n",
    "#plt.axhline(y=0.55, color='r', linestyle='-')\n",
    "plt.axhline(y=0.5, color='r', linestyle='-')\n",
    "plt.vlines(failure_index, ymax=1, ymin=0, color=\"black\", linestyle='--', )\n",
    "plt.legend([\"Failure Probability\", \"Detection Threshold\", \"Failure\"])\n",
    "plt.show();"
   ]
  },
  {
   "cell_type": "markdown",
   "metadata": {},
   "source": [
    "**Saving Model**"
   ]
  },
  {
   "cell_type": "markdown",
   "metadata": {},
   "source": [
    "We'll save these model components in two files, the architecture in a json file that the keras package can use to rebuild the model, and the weights in an HDF5 heirachy that rebuild the exact model."
   ]
  },
  {
   "cell_type": "code",
   "execution_count": 26,
   "metadata": {},
   "outputs": [
    {
     "name": "stdout",
     "output_type": "stream",
     "text": [
      "Model saved\n"
     ]
    }
   ],
   "source": [
    "import os\n",
    "import h5py\n",
    "from sklearn import datasets \n",
    " \n",
    "LSTM_MODEL = 'modellstm.json'\n",
    "MODEL_WEIGHTS = 'modellstm.h5'\n",
    "\n",
    "model_json = model.to_json()\n",
    "with open(LSTM_MODEL, \"w\") as json_file:\n",
    "    json_file.write(model_json)\n",
    "model.save_weights(MODEL_WEIGHTS)\n",
    "print(\"Model saved\")"
   ]
  }
 ],
 "metadata": {
  "kernelspec": {
   "display_name": "Python 3.10.1 64-bit",
   "language": "python",
   "name": "python3"
  },
  "language_info": {
   "codemirror_mode": {
    "name": "ipython",
    "version": 3
   },
   "file_extension": ".py",
   "mimetype": "text/x-python",
   "name": "python",
   "nbconvert_exporter": "python",
   "pygments_lexer": "ipython3",
   "version": "3.10.1"
  },
  "orig_nbformat": 4,
  "vscode": {
   "interpreter": {
    "hash": "665ae0994724b1013868f7e77634dfc5a85cce5f00c589345370b6c9a0cceb5a"
   }
  }
 },
 "nbformat": 4,
 "nbformat_minor": 2
}
